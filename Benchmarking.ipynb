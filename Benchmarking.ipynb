{
 "cells": [
  {
   "cell_type": "markdown",
   "id": "c283560c-65fc-4e69-84f5-cc49a0f3cf23",
   "metadata": {},
   "source": [
    "# Benchmarking Test"
   ]
  },
  {
   "cell_type": "markdown",
   "id": "e7446afc-c679-43ad-ba85-90cbe6ec87d3",
   "metadata": {},
   "source": [
    "## Switching to GPU"
   ]
  },
  {
   "cell_type": "code",
   "execution_count": 1,
   "id": "d1a29553-5b2a-4097-9c01-918d998f624c",
   "metadata": {},
   "outputs": [
    {
     "data": {
      "text/plain": [
       "device(type='cuda')"
      ]
     },
     "execution_count": 1,
     "metadata": {},
     "output_type": "execute_result"
    }
   ],
   "source": [
    "import torch\n",
    "\n",
    "# Move to GPU\n",
    "device = torch.device(\"cuda\" if torch.cuda.is_available() else \"cpu\")\n",
    "device"
   ]
  },
  {
   "cell_type": "markdown",
   "id": "04c951d7-43e5-4e86-8e99-0d15952e8c7d",
   "metadata": {},
   "source": [
    "## Define CNN Models"
   ]
  },
  {
   "cell_type": "code",
   "execution_count": 21,
   "id": "e93f2436-116f-46d8-a914-e7b93218f937",
   "metadata": {},
   "outputs": [],
   "source": [
    "import torch\n",
    "import torch.nn as nn\n",
    "import torch.optim as optim\n",
    "from torchvision import models\n",
    "\n",
    "def load_resnet50(num_classes):\n",
    "    model =  models.resnet50(weights='ResNet50_Weights.DEFAULT')\n",
    "    num_features = model.fc.in_features\n",
    "    model.fc = nn.Linear(num_features, num_classes)\n",
    "    return model\n",
    "\n",
    "def load_efficientnet_b0(num_classes):\n",
    "    model = models.efficientnet_b0(weights='EfficientNet_B0_Weights.DEFAULT')\n",
    "    num_features = model.classifier[1].in_features\n",
    "    model.classifier[1] = nn.Linear(num_features, num_classes)\n",
    "    return model\n",
    "\n",
    "def load_mobilenet_v2(num_classes):\n",
    "    model = models.mobilenet_v2(weights='MobileNet_V2_Weights.DEFAULT')\n",
    "    num_features = model.classifier[1].in_features\n",
    "    model.classifier[1] = nn.Linear(num_features, num_classes)\n",
    "    return model\n",
    "\n",
    "def load_mobilenet_v3_large(num_classes):\n",
    "    model = models.mobilenet_v3_large(weights='MobileNet_V3_Large_Weights.DEFAULT')\n",
    "    num_features = model.classifier[3].in_features\n",
    "    model.classifier[3] = nn.Linear(num_features, num_classes)\n",
    "    return model\n",
    "\n",
    "def load_mobilenet_v3_small(num_classes):\n",
    "    model = models.mobilenet_v3_small(weights='MobileNet_V3_Small_Weights.DEFAULT')\n",
    "    num_features = model.classifier[3].in_features\n",
    "    model.classifier[3] = nn.Linear(num_features, num_classes)\n",
    "    return model"
   ]
  },
  {
   "cell_type": "markdown",
   "id": "92f21066-8301-46e3-9180-3bad8a42ed18",
   "metadata": {},
   "source": [
    "## Load Benchmarking Test Dataset"
   ]
  },
  {
   "cell_type": "code",
   "execution_count": 22,
   "id": "91995ce4-7064-4b0b-9c24-4465ce114d06",
   "metadata": {},
   "outputs": [],
   "source": [
    "import os\n",
    "from torchvision import datasets, transforms\n",
    "from torch.utils.data import DataLoader\n",
    "\n",
    "def create_test_dataloader(data_dir, batch_size, num_workers=4):\n",
    "    # Define transformations for the test dataset\n",
    "    data_transform = transforms.Compose([\n",
    "        transforms.Resize((244, 244)),\n",
    "        transforms.ToTensor(),\n",
    "        transforms.Normalize(mean=[0.485, 0.456, 0.406], std=[0.229, 0.224, 0.225]),\n",
    "    ])\n",
    "\n",
    "    # Create the test dataset\n",
    "    test_dataset = datasets.ImageFolder(os.path.join(data_dir, 'Benchmarking'), transform=data_transform)\n",
    "\n",
    "    # Create the test dataloader\n",
    "    test_loader = DataLoader(test_dataset, batch_size=batch_size, shuffle=False, num_workers=num_workers)\n",
    "\n",
    "    return test_loader\n",
    "\n",
    "data_dir = 'Dataset/'\n",
    "batch_size = 32\n",
    "test_loader = create_test_dataloader(data_dir, batch_size)"
   ]
  },
  {
   "cell_type": "code",
   "execution_count": 23,
   "id": "d6254553-5704-45ba-802b-be7efa5ff723",
   "metadata": {},
   "outputs": [],
   "source": [
    "from torch import nn\n",
    "from torchvision import models\n",
    "from tqdm import tqdm\n",
    "\n",
    "# Function to load the model\n",
    "def load_model(model_class, checkpoint_path, num_classes):\n",
    "    model = model_class(num_classes=num_classes)\n",
    "    model.load_state_dict(torch.load(checkpoint_path, map_location=device))\n",
    "    model.eval()\n",
    "    return model\n",
    "\n",
    "# Function to test the model\n",
    "def evaluate_model(model, test_loader, criterion):\n",
    "    model.eval()\n",
    "    test_loss = 0.0\n",
    "    correct = 0\n",
    "    total = 0\n",
    "\n",
    "    with torch.no_grad():\n",
    "        for inputs, labels in tqdm(test_loader, desc='Testing'):\n",
    "            inputs, labels = inputs.to(device), labels.to(device)\n",
    "\n",
    "            outputs = model(inputs)\n",
    "            loss = criterion(outputs, labels)\n",
    "\n",
    "            test_loss += loss.item() * inputs.size(0)\n",
    "\n",
    "            # Calculate accuracy\n",
    "            _, predicted = torch.max(outputs, 1) \n",
    "            correct += (predicted == labels).sum().item()\n",
    "            total += labels.size(0)\n",
    "\n",
    "    test_loss = test_loss / len(test_loader.dataset)\n",
    "    test_acc = correct / total\n",
    "    print(f'Loss: {test_loss:.4f}, Accuracy: {test_acc*100:.2f}%')"
   ]
  },
  {
   "cell_type": "code",
   "execution_count": 24,
   "id": "def520a0-4f40-4b6d-aa48-1c55b1726797",
   "metadata": {},
   "outputs": [],
   "source": [
    "# List of model loading functions\n",
    "model_functions = [\n",
    "    load_resnet50,\n",
    "    load_mobilenet_v3_large,\n",
    "    load_mobilenet_v3_large,\n",
    "    load_efficientnet_b0,\n",
    "    load_mobilenet_v2,\n",
    "    load_mobilenet_v3_small,\n",
    "]\n",
    "\n",
    "checkpoint_paths = [\n",
    "    'Checkpoints/resnet50/model_epoch_9.pth',\n",
    "    'Checkpoints/mobilenet_v3_large/model_epoch_10.pth',\n",
    "    'Checkpoints/mobilenet_v3_large_20ep/model_epoch_11.pth',\n",
    "    'Checkpoints/efficientnet_b0/model_epoch_14.pth',\n",
    "    'Checkpoints/mobilenet_v2/model_epoch_7.pth',\n",
    "    'Checkpoints/mobilenet_v3_small/model_epoch_6.pth',\n",
    "]"
   ]
  },
  {
   "cell_type": "markdown",
   "id": "c557e37e-094e-40bc-a1a1-6a9841d488a5",
   "metadata": {},
   "source": [
    "## Operate Benchmarking Test"
   ]
  },
  {
   "cell_type": "code",
   "execution_count": 25,
   "id": "98ac1744-860c-4dd7-8ba3-93228db233d5",
   "metadata": {},
   "outputs": [
    {
     "name": "stdout",
     "output_type": "stream",
     "text": [
      "Checkpoints/resnet50/model_epoch_9.pth\n"
     ]
    },
    {
     "name": "stderr",
     "output_type": "stream",
     "text": [
      "Testing: 100%|█████████████████████████████████████████████████████████████████████████| 19/19 [00:04<00:00,  4.01it/s]\n"
     ]
    },
    {
     "name": "stdout",
     "output_type": "stream",
     "text": [
      "Loss: 0.0786, Accuracy: 96.83%\n",
      "Checkpoints/mobilenet_v3_large/model_epoch_10.pth\n"
     ]
    },
    {
     "name": "stderr",
     "output_type": "stream",
     "text": [
      "Testing: 100%|█████████████████████████████████████████████████████████████████████████| 19/19 [00:03<00:00,  5.29it/s]\n"
     ]
    },
    {
     "name": "stdout",
     "output_type": "stream",
     "text": [
      "Loss: 0.0270, Accuracy: 98.83%\n",
      "Checkpoints/mobilenet_v3_large_20ep/model_epoch_11.pth\n"
     ]
    },
    {
     "name": "stderr",
     "output_type": "stream",
     "text": [
      "Testing: 100%|█████████████████████████████████████████████████████████████████████████| 19/19 [00:03<00:00,  5.17it/s]\n"
     ]
    },
    {
     "name": "stdout",
     "output_type": "stream",
     "text": [
      "Loss: 0.0292, Accuracy: 98.67%\n",
      "Checkpoints/efficientnet_b0/model_epoch_14.pth\n"
     ]
    },
    {
     "name": "stderr",
     "output_type": "stream",
     "text": [
      "Testing: 100%|█████████████████████████████████████████████████████████████████████████| 19/19 [00:03<00:00,  5.12it/s]\n"
     ]
    },
    {
     "name": "stdout",
     "output_type": "stream",
     "text": [
      "Loss: 0.0078, Accuracy: 100.00%\n",
      "Checkpoints/mobilenet_v2/model_epoch_7.pth\n"
     ]
    },
    {
     "name": "stderr",
     "output_type": "stream",
     "text": [
      "Testing: 100%|█████████████████████████████████████████████████████████████████████████| 19/19 [00:03<00:00,  5.19it/s]\n"
     ]
    },
    {
     "name": "stdout",
     "output_type": "stream",
     "text": [
      "Loss: 0.0506, Accuracy: 98.17%\n",
      "Checkpoints/mobilenet_v3_small/model_epoch_6.pth\n"
     ]
    },
    {
     "name": "stderr",
     "output_type": "stream",
     "text": [
      "Testing: 100%|█████████████████████████████████████████████████████████████████████████| 19/19 [00:03<00:00,  5.46it/s]"
     ]
    },
    {
     "name": "stdout",
     "output_type": "stream",
     "text": [
      "Loss: 0.0724, Accuracy: 97.67%\n"
     ]
    },
    {
     "name": "stderr",
     "output_type": "stream",
     "text": [
      "\n"
     ]
    }
   ],
   "source": [
    "num_classes = 3\n",
    "loss_fn = nn.CrossEntropyLoss()\n",
    "\n",
    "for get_model, checkpoint_path in zip(model_functions, checkpoint_paths):\n",
    "    # Load the model using the function\n",
    "    loaded_model = load_model(get_model, checkpoint_path, num_classes)\n",
    "    loaded_model = loaded_model.to(device)\n",
    "    # Evaluate the loaded model on the test set\n",
    "    print(checkpoint_path)\n",
    "    evaluate_model(loaded_model, test_loader, loss_fn)"
   ]
  }
 ],
 "metadata": {
  "kernelspec": {
   "display_name": "Python 3 (ipykernel)",
   "language": "python",
   "name": "python3"
  },
  "language_info": {
   "codemirror_mode": {
    "name": "ipython",
    "version": 3
   },
   "file_extension": ".py",
   "mimetype": "text/x-python",
   "name": "python",
   "nbconvert_exporter": "python",
   "pygments_lexer": "ipython3",
   "version": "3.11.7"
  }
 },
 "nbformat": 4,
 "nbformat_minor": 5
}
